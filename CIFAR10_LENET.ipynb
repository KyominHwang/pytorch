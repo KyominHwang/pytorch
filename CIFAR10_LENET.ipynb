{
  "nbformat": 4,
  "nbformat_minor": 0,
  "metadata": {
    "colab": {
      "name": "AISchool_5주차_HW.ipynb",
      "provenance": []
    },
    "kernelspec": {
      "name": "python3",
      "display_name": "Python 3"
    },
    "accelerator": "GPU"
  },
  "cells": [
    {
      "cell_type": "code",
      "metadata": {
        "id": "nc5ajTwObo4T"
      },
      "source": [
        "import torch\r\n",
        "import torch.nn as nn\r\n",
        "import torch.nn.functional as F\r\n",
        "import torchvision\r\n",
        "import torchvision.transforms as transforms\r\n",
        "import matplotlib.pyplot as plt"
      ],
      "execution_count": 93,
      "outputs": []
    },
    {
      "cell_type": "code",
      "metadata": {
        "id": "3wS1UjKKbuAf"
      },
      "source": [
        "transforms_train = transforms.Compose([\r\n",
        "                                       transforms.RandomHorizontalFlip(),\r\n",
        "                                       transforms.ToTensor(),\r\n",
        "                                       transforms.Normalize((0.4914, 0.4822, 0.4465), (0.2023,0.1994,0.2010))\r\n",
        "])\r\n",
        "\r\n",
        "transfomrs_test = transforms.Compose([\r\n",
        "                                      transforms.ToTensor(),\r\n",
        "                                      transforms.Normalize((0.4914,0.4822,0.4465),(0.2023,0.1994,0.2010))\r\n",
        "])"
      ],
      "execution_count": 105,
      "outputs": []
    },
    {
      "cell_type": "code",
      "metadata": {
        "colab": {
          "base_uri": "https://localhost:8080/"
        },
        "id": "KxfH8xQ2cc4b",
        "outputId": "5f3256e3-4abd-40b5-beca-b77563ac642a"
      },
      "source": [
        "train_dev_dataset = torchvision.datasets.CIFAR10(root=\"./data\", train = True, transform=transforms_train, download=True)\r\n",
        "test_dataset = torchvision.datasets.CIFAR10(root=\"./data\", train=False, transform=transfomrs_test, download=True)\r\n",
        "\r\n",
        "train_dataset, dev_dataset = torch.utils.data.random_split(train_dev_dataset, [45000,5000])"
      ],
      "execution_count": 106,
      "outputs": [
        {
          "output_type": "stream",
          "text": [
            "Files already downloaded and verified\n",
            "Files already downloaded and verified\n"
          ],
          "name": "stdout"
        }
      ]
    },
    {
      "cell_type": "code",
      "metadata": {
        "id": "uB-O7WyteMzD"
      },
      "source": [
        "device = torch.device('cuda' if torch.cuda.is_available() else 'cpu')"
      ],
      "execution_count": 107,
      "outputs": []
    },
    {
      "cell_type": "code",
      "metadata": {
        "id": "sn9p622wduIN"
      },
      "source": [
        "num_epochs = 25\r\n",
        "batch_size = 64\r\n",
        "drop_prob = 0.5\r\n",
        "weight_decay_lambda = 1e-4\r\n",
        "learning_rate = 0.001"
      ],
      "execution_count": 148,
      "outputs": []
    },
    {
      "cell_type": "code",
      "metadata": {
        "id": "mmDHaOIOdha_"
      },
      "source": [
        "class LeNet(nn.Module):\r\n",
        "  def __init__(self):\r\n",
        "    super(LeNet,self).__init__()\r\n",
        "    self.layer = nn.Sequential(\r\n",
        "        nn.Conv2d(in_channels=3, out_channels=32, kernel_size=3, padding=1),\r\n",
        "        nn.ReLU(),\r\n",
        "        nn.Dropout(0.5),\r\n",
        "        nn.MaxPool2d(kernel_size=2, stride=2),\r\n",
        "        nn.Conv2d(in_channels=32, out_channels=64, kernel_size=3,padding=1),\r\n",
        "        nn.ReLU(),\r\n",
        "        nn.Dropout(0.5),\r\n",
        "        nn.MaxPool2d(kernel_size=2, stride=2),\r\n",
        "        nn.Conv2d(in_channels=64, out_channels=128, kernel_size=3,padding=1),\r\n",
        "        nn.ReLU(),\r\n",
        "        nn.Dropout(0.5),\r\n",
        "        nn.MaxPool2d(kernel_size=2, stride=2),\r\n",
        "    )\r\n",
        "\r\n",
        "    self.fc_layer = nn.Sequential(\r\n",
        "        nn.Linear(128*4*4, 1024),\r\n",
        "        nn.ReLU(),\r\n",
        "        nn.Dropout(0.5),\r\n",
        "        nn.Linear(1024, 512),\r\n",
        "        nn.ReLU(),\r\n",
        "        nn.Dropout(0.5),\r\n",
        "        nn.Linear(512, 256),\r\n",
        "        nn.ReLU(),\r\n",
        "        nn.Dropout(0.5),\r\n",
        "        nn.Linear(256,10)\r\n",
        "    )\r\n",
        "\r\n",
        "  def forward(self, x):\r\n",
        "    out = self.layer(x)\r\n",
        "    out = out.view(out.size(0), -1)\r\n",
        "    out = self.fc_layer(out)\r\n",
        "    return out"
      ],
      "execution_count": 158,
      "outputs": []
    },
    {
      "cell_type": "code",
      "metadata": {
        "id": "-u6cOvFGlQYJ"
      },
      "source": [
        "def evalutaion(data_loader):\r\n",
        "  correct = 0\r\n",
        "  total = 0\r\n",
        "  for images, labels in data_loader:\r\n",
        "    images = images.to(device)\r\n",
        "    labels = labels.to(device)\r\n",
        "    outputs = model(images)\r\n",
        "    _, predicted = torch.max(outputs.data, 1)\r\n",
        "    total += labels.size(0)\r\n",
        "    correct += (predicted == labels).sum().item()\r\n",
        "  return correct / total"
      ],
      "execution_count": 159,
      "outputs": []
    },
    {
      "cell_type": "code",
      "metadata": {
        "id": "3Wgq3P-meJ_Y"
      },
      "source": [
        "\r\n",
        "model = LeNet().to(device)"
      ],
      "execution_count": 160,
      "outputs": []
    },
    {
      "cell_type": "code",
      "metadata": {
        "id": "y70VZWlteQ9K"
      },
      "source": [
        "train_loader = torch.utils.data.DataLoader(dataset = train_dataset, batch_size = batch_size, shuffle=True)\r\n",
        "dev_loader = torch.utils.data.DataLoader(dataset=dev_dataset, batch_size=batch_size, shuffle=False)\r\n",
        "test_loader = torch.utils.data.DataLoader(dataset = test_dataset, batch_size = batch_size, shuffle=False)"
      ],
      "execution_count": 161,
      "outputs": []
    },
    {
      "cell_type": "code",
      "metadata": {
        "id": "QnpE58AveUlL"
      },
      "source": [
        "criterion = nn.CrossEntropyLoss()\r\n",
        "optimizer = torch.optim.AdamW(model.parameters(), lr = 0.001, weight_decay=weight_decay_lambda)"
      ],
      "execution_count": 162,
      "outputs": []
    },
    {
      "cell_type": "code",
      "metadata": {
        "colab": {
          "base_uri": "https://localhost:8080/"
        },
        "id": "8Fb5uUBieWDd",
        "outputId": "4954df33-20a9-4216-d276-eb33b31d2193"
      },
      "source": [
        "loss_arr = []\r\n",
        "max = 0\r\n",
        "total_step = len(train_loader)\r\n",
        "for epoch in range(num_epochs):\r\n",
        "  for i, (images, labels) in enumerate(train_loader):\r\n",
        "    images = images.to(device)\r\n",
        "    labels = labels.to(device)\r\n",
        "    outputs = model(images)\r\n",
        "    loss = criterion(outputs, labels)\r\n",
        "    optimizer.zero_grad()\r\n",
        "    loss.backward()\r\n",
        "    optimizer.step()\r\n",
        "\r\n",
        "    if (i + 1) % 100 == 0:\r\n",
        "      loss_arr.append(loss)\r\n",
        "      print('epoch [{}/{}], Step [{}/{}], Loss : {:.4f}'.format(epoch + 1, num_epochs, i + 1, total_step, loss.item()))\r\n",
        "\r\n",
        "      with torch.no_grad():\r\n",
        "        model.eval()\r\n",
        "        acc = evalutaion(dev_loader)\r\n",
        "        if max < acc:\r\n",
        "          max = acc\r\n",
        "          print(\"max dev accuracy : \", max)\r\n",
        "          torch.save(model.state_dict(), \"model.ckpt\") # early stopping"
      ],
      "execution_count": 163,
      "outputs": [
        {
          "output_type": "stream",
          "text": [
            "epoch [1/25], Step [100/704], Loss : 1.8742\n",
            "max dev accuracy :  0.2068\n",
            "epoch [1/25], Step [200/704], Loss : 1.8626\n",
            "max dev accuracy :  0.3662\n",
            "epoch [1/25], Step [300/704], Loss : 1.4623\n",
            "max dev accuracy :  0.4342\n",
            "epoch [1/25], Step [400/704], Loss : 1.4591\n",
            "max dev accuracy :  0.4742\n",
            "epoch [1/25], Step [500/704], Loss : 1.5102\n",
            "max dev accuracy :  0.5214\n",
            "epoch [1/25], Step [600/704], Loss : 1.2090\n",
            "max dev accuracy :  0.5456\n",
            "epoch [1/25], Step [700/704], Loss : 1.1349\n",
            "max dev accuracy :  0.5796\n",
            "epoch [2/25], Step [100/704], Loss : 1.0536\n",
            "max dev accuracy :  0.6072\n",
            "epoch [2/25], Step [200/704], Loss : 1.0586\n",
            "max dev accuracy :  0.6184\n",
            "epoch [2/25], Step [300/704], Loss : 0.9426\n",
            "epoch [2/25], Step [400/704], Loss : 0.9708\n",
            "epoch [2/25], Step [500/704], Loss : 0.8366\n",
            "max dev accuracy :  0.6546\n",
            "epoch [2/25], Step [600/704], Loss : 1.0628\n",
            "max dev accuracy :  0.6688\n",
            "epoch [2/25], Step [700/704], Loss : 0.7811\n",
            "epoch [3/25], Step [100/704], Loss : 0.6903\n",
            "epoch [3/25], Step [200/704], Loss : 0.8372\n",
            "max dev accuracy :  0.6856\n",
            "epoch [3/25], Step [300/704], Loss : 1.0642\n",
            "max dev accuracy :  0.7014\n",
            "epoch [3/25], Step [400/704], Loss : 0.6868\n",
            "epoch [3/25], Step [500/704], Loss : 0.8554\n",
            "epoch [3/25], Step [600/704], Loss : 0.7820\n",
            "max dev accuracy :  0.7078\n",
            "epoch [3/25], Step [700/704], Loss : 0.6644\n",
            "epoch [4/25], Step [100/704], Loss : 0.7692\n",
            "max dev accuracy :  0.7126\n",
            "epoch [4/25], Step [200/704], Loss : 0.9418\n",
            "max dev accuracy :  0.7202\n",
            "epoch [4/25], Step [300/704], Loss : 0.5880\n",
            "epoch [4/25], Step [400/704], Loss : 0.6313\n",
            "max dev accuracy :  0.7314\n",
            "epoch [4/25], Step [500/704], Loss : 0.9241\n",
            "epoch [4/25], Step [600/704], Loss : 0.6668\n",
            "epoch [4/25], Step [700/704], Loss : 0.5262\n",
            "epoch [5/25], Step [100/704], Loss : 0.3789\n",
            "epoch [5/25], Step [200/704], Loss : 0.9254\n",
            "epoch [5/25], Step [300/704], Loss : 0.5000\n",
            "epoch [5/25], Step [400/704], Loss : 0.6261\n",
            "epoch [5/25], Step [500/704], Loss : 0.6716\n",
            "epoch [5/25], Step [600/704], Loss : 0.7091\n",
            "max dev accuracy :  0.7482\n",
            "epoch [5/25], Step [700/704], Loss : 0.6413\n",
            "epoch [6/25], Step [100/704], Loss : 0.3047\n",
            "max dev accuracy :  0.7512\n",
            "epoch [6/25], Step [200/704], Loss : 0.5694\n",
            "epoch [6/25], Step [300/704], Loss : 0.6306\n",
            "epoch [6/25], Step [400/704], Loss : 0.5543\n",
            "epoch [6/25], Step [500/704], Loss : 0.4579\n",
            "max dev accuracy :  0.7578\n",
            "epoch [6/25], Step [600/704], Loss : 0.4257\n",
            "epoch [6/25], Step [700/704], Loss : 0.4641\n",
            "epoch [7/25], Step [100/704], Loss : 0.4960\n",
            "epoch [7/25], Step [200/704], Loss : 0.5526\n",
            "epoch [7/25], Step [300/704], Loss : 0.4649\n",
            "epoch [7/25], Step [400/704], Loss : 0.4505\n",
            "epoch [7/25], Step [500/704], Loss : 0.7764\n",
            "epoch [7/25], Step [600/704], Loss : 0.4403\n",
            "epoch [7/25], Step [700/704], Loss : 0.2861\n",
            "epoch [8/25], Step [100/704], Loss : 0.4477\n",
            "max dev accuracy :  0.7716\n",
            "epoch [8/25], Step [200/704], Loss : 0.5315\n",
            "epoch [8/25], Step [300/704], Loss : 0.3829\n",
            "epoch [8/25], Step [400/704], Loss : 0.3498\n",
            "epoch [8/25], Step [500/704], Loss : 0.2373\n",
            "epoch [8/25], Step [600/704], Loss : 0.4051\n",
            "epoch [8/25], Step [700/704], Loss : 0.2393\n",
            "epoch [9/25], Step [100/704], Loss : 0.5140\n",
            "epoch [9/25], Step [200/704], Loss : 0.7379\n",
            "epoch [9/25], Step [300/704], Loss : 0.4551\n",
            "epoch [9/25], Step [400/704], Loss : 0.4796\n",
            "epoch [9/25], Step [500/704], Loss : 0.2415\n",
            "epoch [9/25], Step [600/704], Loss : 0.3594\n",
            "epoch [9/25], Step [700/704], Loss : 0.4486\n",
            "epoch [10/25], Step [100/704], Loss : 0.4073\n",
            "epoch [10/25], Step [200/704], Loss : 0.3073\n",
            "epoch [10/25], Step [300/704], Loss : 0.3873\n",
            "epoch [10/25], Step [400/704], Loss : 0.2793\n",
            "epoch [10/25], Step [500/704], Loss : 0.2605\n",
            "epoch [10/25], Step [600/704], Loss : 0.4427\n",
            "epoch [10/25], Step [700/704], Loss : 0.3317\n",
            "epoch [11/25], Step [100/704], Loss : 0.3825\n",
            "epoch [11/25], Step [200/704], Loss : 0.3613\n",
            "epoch [11/25], Step [300/704], Loss : 0.3956\n",
            "epoch [11/25], Step [400/704], Loss : 0.2193\n",
            "epoch [11/25], Step [500/704], Loss : 0.2540\n",
            "epoch [11/25], Step [600/704], Loss : 0.3944\n",
            "epoch [11/25], Step [700/704], Loss : 0.4710\n",
            "epoch [12/25], Step [100/704], Loss : 0.1852\n",
            "epoch [12/25], Step [200/704], Loss : 0.1662\n",
            "epoch [12/25], Step [300/704], Loss : 0.3347\n",
            "epoch [12/25], Step [400/704], Loss : 0.2215\n",
            "epoch [12/25], Step [500/704], Loss : 0.2481\n",
            "epoch [12/25], Step [600/704], Loss : 0.3941\n",
            "epoch [12/25], Step [700/704], Loss : 0.2633\n",
            "epoch [13/25], Step [100/704], Loss : 0.2543\n",
            "epoch [13/25], Step [200/704], Loss : 0.2561\n",
            "epoch [13/25], Step [300/704], Loss : 0.3330\n",
            "epoch [13/25], Step [400/704], Loss : 0.2695\n",
            "epoch [13/25], Step [500/704], Loss : 0.2645\n",
            "max dev accuracy :  0.7734\n",
            "epoch [13/25], Step [600/704], Loss : 0.2564\n",
            "epoch [13/25], Step [700/704], Loss : 0.2052\n",
            "epoch [14/25], Step [100/704], Loss : 0.2374\n",
            "epoch [14/25], Step [200/704], Loss : 0.1764\n",
            "epoch [14/25], Step [300/704], Loss : 0.2133\n",
            "epoch [14/25], Step [400/704], Loss : 0.3069\n",
            "epoch [14/25], Step [500/704], Loss : 0.2182\n",
            "epoch [14/25], Step [600/704], Loss : 0.2421\n",
            "epoch [14/25], Step [700/704], Loss : 0.1879\n",
            "epoch [15/25], Step [100/704], Loss : 0.2814\n",
            "epoch [15/25], Step [200/704], Loss : 0.1239\n",
            "epoch [15/25], Step [300/704], Loss : 0.1970\n",
            "epoch [15/25], Step [400/704], Loss : 0.2612\n",
            "epoch [15/25], Step [500/704], Loss : 0.1089\n",
            "epoch [15/25], Step [600/704], Loss : 0.1799\n",
            "epoch [15/25], Step [700/704], Loss : 0.1637\n",
            "epoch [16/25], Step [100/704], Loss : 0.4096\n",
            "epoch [16/25], Step [200/704], Loss : 0.2111\n",
            "epoch [16/25], Step [300/704], Loss : 0.2438\n",
            "epoch [16/25], Step [400/704], Loss : 0.2152\n",
            "epoch [16/25], Step [500/704], Loss : 0.2656\n",
            "epoch [16/25], Step [600/704], Loss : 0.1379\n",
            "epoch [16/25], Step [700/704], Loss : 0.2389\n",
            "epoch [17/25], Step [100/704], Loss : 0.0806\n",
            "epoch [17/25], Step [200/704], Loss : 0.1664\n",
            "epoch [17/25], Step [300/704], Loss : 0.1704\n",
            "epoch [17/25], Step [400/704], Loss : 0.2181\n",
            "epoch [17/25], Step [500/704], Loss : 0.2617\n",
            "epoch [17/25], Step [600/704], Loss : 0.1710\n",
            "epoch [17/25], Step [700/704], Loss : 0.1682\n",
            "epoch [18/25], Step [100/704], Loss : 0.0578\n",
            "epoch [18/25], Step [200/704], Loss : 0.0176\n",
            "epoch [18/25], Step [300/704], Loss : 0.1367\n",
            "epoch [18/25], Step [400/704], Loss : 0.1902\n",
            "epoch [18/25], Step [500/704], Loss : 0.1234\n",
            "epoch [18/25], Step [600/704], Loss : 0.2089\n",
            "epoch [18/25], Step [700/704], Loss : 0.1331\n",
            "epoch [19/25], Step [100/704], Loss : 0.2340\n",
            "epoch [19/25], Step [200/704], Loss : 0.0464\n",
            "epoch [19/25], Step [300/704], Loss : 0.0568\n",
            "epoch [19/25], Step [400/704], Loss : 0.2319\n",
            "epoch [19/25], Step [500/704], Loss : 0.1397\n",
            "epoch [19/25], Step [600/704], Loss : 0.0953\n",
            "epoch [19/25], Step [700/704], Loss : 0.3518\n",
            "epoch [20/25], Step [100/704], Loss : 0.2750\n",
            "epoch [20/25], Step [200/704], Loss : 0.3440\n",
            "epoch [20/25], Step [300/704], Loss : 0.0844\n",
            "epoch [20/25], Step [400/704], Loss : 0.2171\n",
            "epoch [20/25], Step [500/704], Loss : 0.0451\n",
            "epoch [20/25], Step [600/704], Loss : 0.1426\n",
            "epoch [20/25], Step [700/704], Loss : 0.0707\n",
            "epoch [21/25], Step [100/704], Loss : 0.0798\n",
            "epoch [21/25], Step [200/704], Loss : 0.1090\n",
            "epoch [21/25], Step [300/704], Loss : 0.0306\n",
            "epoch [21/25], Step [400/704], Loss : 0.2175\n",
            "epoch [21/25], Step [500/704], Loss : 0.1707\n",
            "epoch [21/25], Step [600/704], Loss : 0.1198\n",
            "epoch [21/25], Step [700/704], Loss : 0.2098\n",
            "epoch [22/25], Step [100/704], Loss : 0.1263\n",
            "epoch [22/25], Step [200/704], Loss : 0.1077\n",
            "epoch [22/25], Step [300/704], Loss : 0.0492\n",
            "epoch [22/25], Step [400/704], Loss : 0.1792\n",
            "epoch [22/25], Step [500/704], Loss : 0.0727\n",
            "epoch [22/25], Step [600/704], Loss : 0.1575\n",
            "max dev accuracy :  0.774\n",
            "epoch [22/25], Step [700/704], Loss : 0.0625\n",
            "epoch [23/25], Step [100/704], Loss : 0.2697\n",
            "epoch [23/25], Step [200/704], Loss : 0.1125\n",
            "epoch [23/25], Step [300/704], Loss : 0.1572\n",
            "epoch [23/25], Step [400/704], Loss : 0.3574\n",
            "epoch [23/25], Step [500/704], Loss : 0.0394\n",
            "epoch [23/25], Step [600/704], Loss : 0.1317\n",
            "epoch [23/25], Step [700/704], Loss : 0.0122\n",
            "epoch [24/25], Step [100/704], Loss : 0.0430\n",
            "epoch [24/25], Step [200/704], Loss : 0.0162\n",
            "epoch [24/25], Step [300/704], Loss : 0.1697\n",
            "epoch [24/25], Step [400/704], Loss : 0.0634\n",
            "epoch [24/25], Step [500/704], Loss : 0.0979\n",
            "epoch [24/25], Step [600/704], Loss : 0.1647\n",
            "epoch [24/25], Step [700/704], Loss : 0.0513\n",
            "epoch [25/25], Step [100/704], Loss : 0.0547\n",
            "epoch [25/25], Step [200/704], Loss : 0.1538\n",
            "epoch [25/25], Step [300/704], Loss : 0.1166\n",
            "epoch [25/25], Step [400/704], Loss : 0.1221\n",
            "epoch [25/25], Step [500/704], Loss : 0.0718\n",
            "epoch [25/25], Step [600/704], Loss : 0.0543\n",
            "epoch [25/25], Step [700/704], Loss : 0.0540\n"
          ],
          "name": "stdout"
        }
      ]
    },
    {
      "cell_type": "code",
      "metadata": {
        "id": "AmSUbH0zeYHo"
      },
      "source": [
        "with torch.no_grad():\r\n",
        "  correct = 0\r\n",
        "  total = 0\r\n",
        "  for images, labels in test_loader:\r\n",
        "    images = images.to(device)\r\n",
        "    labels = labels.to(device)\r\n",
        "    outputs = model(images)\r\n",
        "    _, predicted = torch.max(outputs.data, 1)\r\n",
        "    total += labels.size(0)\r\n",
        "    correct += (predicted == labels).sum().item()"
      ],
      "execution_count": 164,
      "outputs": []
    },
    {
      "cell_type": "code",
      "metadata": {
        "id": "jmq08Zy6jNvS",
        "colab": {
          "base_uri": "https://localhost:8080/"
        },
        "outputId": "0c9b12d5-b544-44cd-e7d6-f6599286ce1c"
      },
      "source": [
        "print(correct / total)"
      ],
      "execution_count": 165,
      "outputs": [
        {
          "output_type": "stream",
          "text": [
            "0.7778\n"
          ],
          "name": "stdout"
        }
      ]
    },
    {
      "cell_type": "code",
      "metadata": {
        "id": "9iLaYj6JJXZa"
      },
      "source": [
        ""
      ],
      "execution_count": null,
      "outputs": []
    }
  ]
}