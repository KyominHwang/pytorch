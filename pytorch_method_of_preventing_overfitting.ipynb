{
  "nbformat": 4,
  "nbformat_minor": 0,
  "metadata": {
    "colab": {
      "name": "pytorch_method_of_preventing_overfitting.ipynb",
      "provenance": [],
      "collapsed_sections": []
    },
    "kernelspec": {
      "name": "python3",
      "display_name": "Python 3"
    }
  },
  "cells": [
    {
      "cell_type": "code",
      "metadata": {
        "id": "SgWspzC8jgQu"
      },
      "source": [
        "import torch\r\n",
        "import torch.nn as nn\r\n",
        "import torch.nn.functional as F\r\n",
        "import torchvision\r\n",
        "import torchvision.transforms as transforms\r\n",
        "import matplotlib.pyplot as plt"
      ],
      "execution_count": 1,
      "outputs": []
    },
    {
      "cell_type": "code",
      "metadata": {
        "id": "4n-l4CLlkE6v"
      },
      "source": [
        "device = torch.device('cuda' if torch.cuda.is_available() else 'cpu')"
      ],
      "execution_count": 2,
      "outputs": []
    },
    {
      "cell_type": "code",
      "metadata": {
        "id": "qLiPNNzWkKcy"
      },
      "source": [
        "input_size = 28 * 28\r\n",
        "hidden_size = 600\r\n",
        "num_classes = 10\r\n",
        "num_epochs = 10\r\n",
        "batch_size = 100\r\n",
        "drop_prob = 0.2\r\n",
        "weight_decay_lambda = 0.01\r\n",
        "learning_rate = 0.001"
      ],
      "execution_count": 3,
      "outputs": []
    },
    {
      "cell_type": "markdown",
      "metadata": {
        "id": "nC2oWjZyk9XA"
      },
      "source": [
        "만약에 같은 비율로 쪼개고 싶으면 sklearn에서 미리 전처리"
      ]
    },
    {
      "cell_type": "code",
      "metadata": {
        "id": "2rtakJdekTRX"
      },
      "source": [
        "train_dev_dataset = torchvision.datasets.MNIST(root=\"./data\", train=True, transform=transforms.ToTensor(), download=True)\r\n",
        "train_dataset, dev_dataset = torch.utils.data.random_split(train_dev_dataset, [50000,10000])"
      ],
      "execution_count": 5,
      "outputs": []
    },
    {
      "cell_type": "code",
      "metadata": {
        "id": "o3mPIqlzkhCB"
      },
      "source": [
        "test_dataset = torchvision.datasets.MNIST(root=\"./data\", train=False, transform=transforms.ToTensor())"
      ],
      "execution_count": 7,
      "outputs": []
    },
    {
      "cell_type": "code",
      "metadata": {
        "id": "MFQNMkcHlHgG"
      },
      "source": [
        "train_loader = torch.utils.data.DataLoader(dataset = train_dataset, batch_size = batch_size, shuffle=True)\r\n",
        "dev_loader = torch.utils.data.DataLoader(dataset=dev_dataset, batch_size=batch_size, shuffle=False)\r\n",
        "test_loader = torch.utils.data.DataLoader(dataset = test_dataset, batch_size = batch_size, shuffle=False)"
      ],
      "execution_count": 8,
      "outputs": []
    },
    {
      "cell_type": "code",
      "metadata": {
        "id": "jMsxsyQenOgV"
      },
      "source": [
        "def evalutaion(data_loader):\r\n",
        "  correct = 0\r\n",
        "  total = 0\r\n",
        "  for images, labels in data_loader:\r\n",
        "    images = images.reshape(-1,28*28).to(device)\r\n",
        "    labels = labels.to(device)\r\n",
        "    outputs = model(images)\r\n",
        "    _, predicted = torch.max(outputs.data, 1)\r\n",
        "    total += labels.size(0)\r\n",
        "    correct += (predicted == labels).sum().item()\r\n",
        "  return correct / total"
      ],
      "execution_count": 13,
      "outputs": []
    },
    {
      "cell_type": "code",
      "metadata": {
        "id": "5ma6qSiZlYQz"
      },
      "source": [
        "class NeuralNet(nn.Module):\r\n",
        "  def __init__(self, input_size, num_classes):\r\n",
        "    super(NeuralNet, self).__init__()\r\n",
        "    self.fc1 = nn.Linear(input_size, hidden_size)\r\n",
        "    torch.nn.init.kaiming_normal_(self.fc1.weight) # he_normal\r\n",
        "    torch.nn.init.zeros_(self.fc1.bias)\r\n",
        "    self.fc2 = nn.Linear(hidden_size, hidden_size)\r\n",
        "    torch.nn.init.kaiming_normal_(self.fc2.weight)\r\n",
        "    torch.nn.init.zeros_(self.fc2.bias)\r\n",
        "    self.fc3 = nn.Linear(hidden_size, num_classes)\r\n",
        "    torch.nn.init.kaiming_normal_(self.fc3.weight) # he_normal\r\n",
        "    torch.nn.init.zeros_(self.fc3.bias)\r\n",
        "    self.dropout = nn.Dropout(drop_prob)\r\n",
        "  \r\n",
        "  def forward(self, x):\r\n",
        "    out = F.relu(self.fc1(x))\r\n",
        "    out = self.dropout(out)\r\n",
        "    out = F.relu(self.fc2(out))\r\n",
        "    out = self.dropout(out)\r\n",
        "    out = self.fc3(out)\r\n",
        "    return out"
      ],
      "execution_count": 15,
      "outputs": []
    },
    {
      "cell_type": "code",
      "metadata": {
        "id": "jYO7EZJfmLtO"
      },
      "source": [
        "model = NeuralNet(input_size, num_classes).to(device)"
      ],
      "execution_count": 16,
      "outputs": []
    },
    {
      "cell_type": "code",
      "metadata": {
        "id": "sl5JN3GXmni7"
      },
      "source": [
        "criterion = nn.CrossEntropyLoss()\r\n",
        "optimizer = torch.optim.Adam(model.parameters(), lr = learning_rate, weight_decay=weight_decay_lambda)"
      ],
      "execution_count": 17,
      "outputs": []
    },
    {
      "cell_type": "code",
      "metadata": {
        "colab": {
          "base_uri": "https://localhost:8080/"
        },
        "id": "i5td3dLDmvYi",
        "outputId": "976781b8-e45d-4947-9106-b31952da76c8"
      },
      "source": [
        "loss_arr = []\r\n",
        "max = 0\r\n",
        "total_step = len(train_loader)\r\n",
        "for epoch in range(num_epochs):\r\n",
        "  for i, (images, labels) in enumerate(train_loader):\r\n",
        "    images = images.reshape(-1,28*28).to(device)\r\n",
        "    labels = labels.to(device)\r\n",
        "    outputs = model(images)\r\n",
        "    loss = criterion(outputs, labels)\r\n",
        "    optimizer.zero_grad()\r\n",
        "    loss.backward()\r\n",
        "    optimizer.step()\r\n",
        "\r\n",
        "    if (i + 1) % 100 == 0:\r\n",
        "      loss_arr.append(loss)\r\n",
        "      print('epoch [{}/{}], Step [{}/{}], Loss : {:.4f}'.format(epoch + 1, num_epochs, i + 1, total_step, loss.item()))\r\n",
        "\r\n",
        "      with torch.no_grad():\r\n",
        "        model.eval()\r\n",
        "        acc = evalutaion(dev_loader)\r\n",
        "        if max < acc:\r\n",
        "          max = acc\r\n",
        "          print(\"max dev accuracy : \", max)\r\n",
        "          torch.save(model.state_dict(), \"model.ckpt\") # early stopping"
      ],
      "execution_count": 18,
      "outputs": [
        {
          "output_type": "stream",
          "text": [
            "epoch [1/10], Step [100/500], Loss : 0.4962\n",
            "max dev accuracy :  0.9027\n",
            "epoch [1/10], Step [200/500], Loss : 0.2403\n",
            "max dev accuracy :  0.9215\n",
            "epoch [1/10], Step [300/500], Loss : 0.3189\n",
            "max dev accuracy :  0.9235\n",
            "epoch [1/10], Step [400/500], Loss : 0.2430\n",
            "max dev accuracy :  0.932\n",
            "epoch [1/10], Step [500/500], Loss : 0.3108\n",
            "epoch [2/10], Step [100/500], Loss : 0.2164\n",
            "max dev accuracy :  0.936\n",
            "epoch [2/10], Step [200/500], Loss : 0.3560\n",
            "epoch [2/10], Step [300/500], Loss : 0.2439\n",
            "epoch [2/10], Step [400/500], Loss : 0.4219\n",
            "epoch [2/10], Step [500/500], Loss : 0.2150\n",
            "epoch [3/10], Step [100/500], Loss : 0.2797\n",
            "max dev accuracy :  0.9361\n",
            "epoch [3/10], Step [200/500], Loss : 0.2785\n",
            "max dev accuracy :  0.938\n",
            "epoch [3/10], Step [300/500], Loss : 0.2699\n",
            "epoch [3/10], Step [400/500], Loss : 0.2423\n",
            "max dev accuracy :  0.9406\n",
            "epoch [3/10], Step [500/500], Loss : 0.2540\n",
            "epoch [4/10], Step [100/500], Loss : 0.1504\n",
            "epoch [4/10], Step [200/500], Loss : 0.2036\n",
            "max dev accuracy :  0.9426\n",
            "epoch [4/10], Step [300/500], Loss : 0.1961\n",
            "epoch [4/10], Step [400/500], Loss : 0.2621\n",
            "epoch [4/10], Step [500/500], Loss : 0.2870\n",
            "epoch [5/10], Step [100/500], Loss : 0.2308\n",
            "epoch [5/10], Step [200/500], Loss : 0.2737\n",
            "epoch [5/10], Step [300/500], Loss : 0.2094\n",
            "epoch [5/10], Step [400/500], Loss : 0.2739\n",
            "epoch [5/10], Step [500/500], Loss : 0.2523\n",
            "epoch [6/10], Step [100/500], Loss : 0.2021\n",
            "max dev accuracy :  0.9435\n",
            "epoch [6/10], Step [200/500], Loss : 0.1683\n",
            "epoch [6/10], Step [300/500], Loss : 0.2101\n",
            "epoch [6/10], Step [400/500], Loss : 0.1542\n",
            "max dev accuracy :  0.9442\n",
            "epoch [6/10], Step [500/500], Loss : 0.1991\n",
            "epoch [7/10], Step [100/500], Loss : 0.2139\n",
            "max dev accuracy :  0.947\n",
            "epoch [7/10], Step [200/500], Loss : 0.3471\n",
            "epoch [7/10], Step [300/500], Loss : 0.1997\n",
            "epoch [7/10], Step [400/500], Loss : 0.1953\n",
            "epoch [7/10], Step [500/500], Loss : 0.2130\n",
            "epoch [8/10], Step [100/500], Loss : 0.2139\n",
            "epoch [8/10], Step [200/500], Loss : 0.2113\n",
            "epoch [8/10], Step [300/500], Loss : 0.1929\n",
            "epoch [8/10], Step [400/500], Loss : 0.2568\n",
            "epoch [8/10], Step [500/500], Loss : 0.1814\n",
            "epoch [9/10], Step [100/500], Loss : 0.1795\n",
            "epoch [9/10], Step [200/500], Loss : 0.3928\n",
            "epoch [9/10], Step [300/500], Loss : 0.2662\n",
            "epoch [9/10], Step [400/500], Loss : 0.2432\n",
            "epoch [9/10], Step [500/500], Loss : 0.1753\n",
            "epoch [10/10], Step [100/500], Loss : 0.2542\n",
            "epoch [10/10], Step [200/500], Loss : 0.2892\n",
            "epoch [10/10], Step [300/500], Loss : 0.2939\n",
            "epoch [10/10], Step [400/500], Loss : 0.3267\n",
            "epoch [10/10], Step [500/500], Loss : 0.2690\n"
          ],
          "name": "stdout"
        }
      ]
    },
    {
      "cell_type": "code",
      "metadata": {
        "colab": {
          "base_uri": "https://localhost:8080/",
          "height": 282
        },
        "id": "z1QBrugennEu",
        "outputId": "47d8c825-746b-44f1-e04d-41a8bc86c771"
      },
      "source": [
        "with torch.no_grad():\r\n",
        "  correct = 0\r\n",
        "  total = 0\r\n",
        "  for images, labels in test_loader:\r\n",
        "    images = images.reshape(-1,28*28).to(device)\r\n",
        "    labels = labels.to(device)\r\n",
        "    outputs = model(images)\r\n",
        "    _, predicted = torch.max(outputs.data, 1)\r\n",
        "    total += labels.size(0)\r\n",
        "    correct += (predicted == labels).sum().item()\r\n",
        "\r\n",
        "print(\"accuracy of the network on the 10000 test images : {}%\".format(100 * correct / total))\r\n",
        "torch.save(model.state_dict, \"model.ckpt\")\r\n",
        "plt.plot(loss_arr)\r\n",
        "plt.show()"
      ],
      "execution_count": 20,
      "outputs": [
        {
          "output_type": "stream",
          "text": [
            "accuracy of the network on the 10000 test images : 94.27%\n"
          ],
          "name": "stdout"
        },
        {
          "output_type": "display_data",
          "data": {
            "image/png": "[encoded data removed]",
            "text/plain": [
              "<Figure size 432x288 with 1 Axes>"
            ]
          },
          "metadata": {
            "tags": [],
            "needs_background": "light"
          }
        }
      ]
    },
    {
      "cell_type": "code",
      "metadata": {
        "id": "4lM1WrKTpIQ7"
      },
      "source": [
        ""
      ],
      "execution_count": null,
      "outputs": []
    }
  ]
}